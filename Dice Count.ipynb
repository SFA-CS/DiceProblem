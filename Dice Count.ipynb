{
 "cells": [
  {
   "cell_type": "code",
   "execution_count": 37,
   "id": "439f18bb",
   "metadata": {},
   "outputs": [],
   "source": [
    "import itertools\n",
    "\n",
    "def generate_dice_count(n, k):\n",
    "    # Generate all possible combinations of n integers that sum to k\n",
    "    combinations = list(itertools.combinations(range(1, k), n - 1)) #generates all combos of integers for n(sides) (except for 0)\n",
    "    count = 0\n",
    "    dice_combos = [] #empty list that stores dice combos that work\n",
    "    for combo in combinations:#loop\n",
    "        die = [combo[0]] #starts list for die\n",
    "        for i in range(1, n - 1): #iterates the for loop using the range specified in parenthesis\n",
    "            die.append(combo[i] - combo[i - 1]) #finds number of pips on each side (takes difference between elements to ensure # of pips >=1)\n",
    "        die.append(k - combo[-1]) #finds pips on last side by using total number of pips(k) - last element of the combination\n",
    "        \n",
    "        # Check if every side has at least 1 pip\n",
    "        if all(side >= 1 for side in die): #makes sure all die have at least one side\n",
    "            die.sort()\n",
    "            if die not in dice_combos:\n",
    "                dice_combos.append(die) #adds die to dice list\n",
    "                count += 1\n",
    "                \n",
    "    return count #returns the count of all possible combinations"
   ]
  },
  {
   "cell_type": "code",
   "execution_count": 38,
   "id": "a2686eff",
   "metadata": {},
   "outputs": [
    {
     "data": {
      "text/plain": [
       "33"
      ]
     },
     "execution_count": 38,
     "metadata": {},
     "output_type": "execute_result"
    }
   ],
   "source": [
    "generate_dice_count(3, 20)"
   ]
  },
  {
   "cell_type": "code",
   "execution_count": 39,
   "id": "391c76e6",
   "metadata": {},
   "outputs": [
    {
     "data": {
      "text/plain": [
       "0"
      ]
     },
     "execution_count": 39,
     "metadata": {},
     "output_type": "execute_result"
    }
   ],
   "source": [
    "generate_dice_count(3,1)"
   ]
  },
  {
   "cell_type": "code",
   "execution_count": 40,
   "id": "f89cde2e",
   "metadata": {},
   "outputs": [
    {
     "data": {
      "text/plain": [
       "1"
      ]
     },
     "execution_count": 40,
     "metadata": {},
     "output_type": "execute_result"
    }
   ],
   "source": [
    "generate_dice_count(4,4)"
   ]
  }
 ],
 "metadata": {
  "kernelspec": {
   "display_name": "Python 3 (ipykernel)",
   "language": "python",
   "name": "python3"
  },
  "language_info": {
   "codemirror_mode": {
    "name": "ipython",
    "version": 3
   },
   "file_extension": ".py",
   "mimetype": "text/x-python",
   "name": "python",
   "nbconvert_exporter": "python",
   "pygments_lexer": "ipython3",
   "version": "3.11.4"
  }
 },
 "nbformat": 4,
 "nbformat_minor": 5
}
