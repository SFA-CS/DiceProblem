{
 "cells": [
  {
   "cell_type": "code",
   "execution_count": null,
   "id": "9046eeb2",
   "metadata": {},
   "outputs": [],
   "source": [
    "import csv\n",
    "import itertools\n",
    "\n",
    "def generate_dice(n, k):\n",
    "    # Generate all possible combinations of n integers that sum to k\n",
    "    combinations = list(itertools.combinations(range(1, k), n - 1)) #generates all combos of integers for n(sides) (except for 0)\n",
    "    \n",
    "    dice_combos = [] #empty list that stores dice combos that work\n",
    "    for combo in combinations:#loop\n",
    "        die = [combo[0]] #starts list for die\n",
    "        for i in range(1, n - 1): #iterates the for loop using the range specified in parenthesis\n",
    "            die.append(combo[i] - combo[i - 1]) #finds number of pips on each side (takes difference between elements to ensure # of pips >=1)\n",
    "        die.append(k - combo[-1]) #finds pips on last side by using total number of pips(k) - last element of the combination\n",
    "        \n",
    "        # Check if every side has at least 1 pip\n",
    "        if all(side >= 1 for side in die): #makes sure all die have at least one side\n",
    "            die.sort()\n",
    "            if die not in dice_combos:\n",
    "                dice_combos.append(die) #adds die to dice list\n",
    "    \n",
    "    return len(dice_combos) #returns the size of dice list with all possible combinations\n",
    "\n",
    "n = 4\n",
    "csv_file = \"dice_combos.csv\"\n",
    "\n",
    "try:\n",
    "    with open(csv_file, mode = 'w', newline = '') as file:\n",
    "        writer = csv.writer(file)\n",
    "        writer.writerow([\"n\", \"k\", \"Num of Dice Combos\"])\n",
    "        for k in range(1, 101): #k from 1 to 100\n",
    "            num_of_combos = generate_dice(n,k)\n",
    "            writer.writerow([n, k, num_of_combos])\n",
    "    print(\"data written to file\", csv_file)\n",
    "except Exception as ex:\n",
    "    print(\"error\", ex)\n"
   ]
  },
  {
   "cell_type": "code",
   "execution_count": null,
   "id": "6a193eb4",
   "metadata": {},
   "outputs": [],
   "source": []
  }
 ],
 "metadata": {
  "kernelspec": {
   "display_name": "Python 3 (ipykernel)",
   "language": "python",
   "name": "python3"
  },
  "language_info": {
   "codemirror_mode": {
    "name": "ipython",
    "version": 3
   },
   "file_extension": ".py",
   "mimetype": "text/x-python",
   "name": "python",
   "nbconvert_exporter": "python",
   "pygments_lexer": "ipython3",
   "version": "3.11.4"
  }
 },
 "nbformat": 4,
 "nbformat_minor": 5
}
