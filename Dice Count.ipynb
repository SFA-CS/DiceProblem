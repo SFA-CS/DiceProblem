{
 "cells": [
  {
   "cell_type": "code",
   "execution_count": 1,
   "id": "9046eeb2",
   "metadata": {},
   "outputs": [
    {
     "name": "stdout",
     "output_type": "stream",
     "text": [
      "data written to file dice_combos.csv\n"
     ]
    }
   ],
   "source": [
    "import csv\n",
    "\n",
    "def findAllLoop(n,k):\n",
    "    start_dice = [k-n+1]   # start dice is [k-n+1,1,1, ..., 1]\n",
    "    for i in range(n-1):\n",
    "        start_dice.append(1)\n",
    "    \n",
    "    process_dice=[start_dice] # queue for all the dice to process\n",
    "    all_dice = [start_dice]   # return list for all found dice\n",
    "    while len(process_dice)>0:\n",
    "        d = process_dice.pop(0) # grab the next dice to process\n",
    "        for i in range(n-1):\n",
    "            if d[i] >= d[i+1] + 2:  # check for sides with difference of 2\n",
    "                new_dice = d.copy() # make a new dice and move one of the pips\n",
    "                new_dice[i] = new_dice[i] - 1\n",
    "                new_dice[i+1] = new_dice[i+1] + 1\n",
    "                if not( new_dice in all_dice): \n",
    "                    all_dice.append(new_dice)\n",
    "                    process_dice.append(new_dice)\n",
    "    return len(all_dice)\n",
    "\n",
    "csv_file = \"dice_combos.csv\"\n",
    "\n",
    "try:\n",
    "    with open(csv_file, mode = 'w', newline = '') as file:\n",
    "        writer = csv.writer(file)\n",
    "        writer.writerow([\"n\", \"k\", \"Num of Dice Combos\"])\n",
    "        for n in range(3,15): #n from 1 - 10\n",
    "            for k in range(n, 40): #k from 1 to 100\n",
    "                num_of_combos = findAllLoop(n,k)\n",
    "                writer.writerow([n, k, num_of_combos])\n",
    "    print(\"data written to file\", csv_file)\n",
    "except Exception as ex:\n",
    "    print(\"error\", ex)"
   ]
  },
  {
   "cell_type": "code",
   "execution_count": null,
   "id": "6a193eb4",
   "metadata": {},
   "outputs": [],
   "source": []
  }
 ],
 "metadata": {
  "kernelspec": {
   "display_name": "Python 3 (ipykernel)",
   "language": "python",
   "name": "python3"
  },
  "language_info": {
   "codemirror_mode": {
    "name": "ipython",
    "version": 3
   },
   "file_extension": ".py",
   "mimetype": "text/x-python",
   "name": "python",
   "nbconvert_exporter": "python",
   "pygments_lexer": "ipython3",
   "version": "3.11.4"
  }
 },
 "nbformat": 4,
 "nbformat_minor": 5
}
