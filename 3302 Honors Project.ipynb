{
 "cells": [
  {
   "cell_type": "code",
   "execution_count": 13,
   "id": "bfd6af65",
   "metadata": {},
   "outputs": [],
   "source": [
    "import itertools\n",
    "\n",
    "def generate_dice(n, k):\n",
    "    # Generate all possible combinations of n integers that sum to k\n",
    "    combinations = list(itertools.combinations(range(1, k), n - 1)) #generates all combos of integers for n(sides) (except for 0)\n",
    "    \n",
    "    dice_combos = [] #empty list that stores dice combos that work\n",
    "    for combo in combinations:#loop\n",
    "        die = [combo[0]] #starts list for die\n",
    "        for i in range(1, n - 1): #iterates the for loop using the range specified in parenthesis\n",
    "            die.append(combo[i] - combo[i - 1]) #finds number of pips on each side (takes difference between elements to ensure # of pips >=1)\n",
    "        die.append(k - combo[-1]) #finds pips on last side by using total number of pips(k) - last element of the combination\n",
    "        \n",
    "        # Check if every side has at least 1 pip\n",
    "        if all(side >= 1 for side in die): #makes sure all die have at least one side\n",
    "            die.sort()\n",
    "            if die not in dice_combos:\n",
    "                dice_combos.append(die) #adds die to dice list\n",
    "    \n",
    "    return dice_combos #returns the dice list with all possible combinations"
   ]
  },
  {
   "cell_type": "code",
   "execution_count": 14,
   "id": "c8f0a407",
   "metadata": {},
   "outputs": [],
   "source": [
    "def get_faces(dice_combos): #added get faces method which should get values for d1 and d2 depending on dice combos\n",
    "    for i in range(len(dice_combos)):\n",
    "        for j in range(i + 1, len(dice_combos)):\n",
    "            d1 = dice_combos[i]\n",
    "            d2 = dice_combos[j]\n",
    "            i = i + 1\n",
    "    return d1, d2"
   ]
  },
  {
   "cell_type": "code",
   "execution_count": 15,
   "id": "9f68d3cd",
   "metadata": {},
   "outputs": [],
   "source": [
    "def compare_die(d1, d2):\n",
    "    face1wins = 0\n",
    "    face2wins = 0\n",
    "    tie = 0\n",
    "\n",
    "    for face1 in d1:\n",
    "        for face2 in d2:\n",
    "            if face1 > face2:\n",
    "                face1wins += 1\n",
    "            if face2 > face1:          \n",
    "                face2wins +=1\n",
    "            if(face1 == face2):\n",
    "                tie +=1\n",
    "    if face1wins > face2wins:\n",
    "        return 1\n",
    "    if face2wins > face1wins:\n",
    "        return 2\n",
    "    if face1wins == face2wins:\n",
    "        return 0"
   ]
  },
  {
   "cell_type": "code",
   "execution_count": 16,
   "id": "fd168312",
   "metadata": {},
   "outputs": [],
   "source": [
    "def best_dice(n, k):\n",
    "    dice_combos = generate_dice(n,k)\n",
    "    print(dice_combos)\n",
    "    \n",
    "    n = len(dice_combos)\n",
    "    wins = [0] * n\n",
    "    ties = [0] * n\n",
    "    \n",
    "    for i in range(n):\n",
    "        for j in range(i+1, n):\n",
    "            result = compare_die(dice_combos[i], dice_combos[j])\n",
    "            \n",
    "            if result == 1:\n",
    "                wins[i] += 1\n",
    "            elif result == 2:\n",
    "                wins[j] += 1\n",
    "            else:\n",
    "                ties[i] += 1\n",
    "                ties[j] += 1\n",
    "                \n",
    "            ties_total = ties[i] + ties[j]\n",
    "            \n",
    "    print(\"The best die is...\")\n",
    "    best_index = 0\n",
    "    num_ties = 0\n",
    "    ties_index = 0\n",
    "    \n",
    "    for i in range(n):\n",
    "        if wins[i] > wins[best_index] and wins[i] > num_ties: #may not need\n",
    "            best_index = i\n",
    "            num_ties = ties[i]\n",
    "        elif wins[i] == wins[best_index] and ties[i] > num_ties:\n",
    "            best_index = i\n",
    "            num_ties = ties[i]\n",
    "            \n",
    "            \n",
    "    \n",
    "    print(wins)\n",
    "    print(ties)\n",
    "    return dice_combos[best_index]\n",
    "        "
   ]
  },
  {
   "cell_type": "code",
   "execution_count": 18,
   "id": "1af548ee",
   "metadata": {},
   "outputs": [
    {
     "name": "stdout",
     "output_type": "stream",
     "text": [
      "[[1, 5], [2, 4], [3, 3]]\n",
      "The best die is...\n",
      "[0, 0, 0]\n",
      "[2, 2, 2]\n"
     ]
    },
    {
     "data": {
      "text/plain": [
       "[1, 5]"
      ]
     },
     "execution_count": 18,
     "metadata": {},
     "output_type": "execute_result"
    }
   ],
   "source": [
    "#### test cases to check by hand\n",
    "#best_dice(3, 8)\n",
    "    \n",
    "\n",
    "best_dice(2, 6)\n",
    "\n"
   ]
  },
  {
   "cell_type": "code",
   "execution_count": 27,
   "id": "4c8ce3ca",
   "metadata": {},
   "outputs": [
    {
     "name": "stdout",
     "output_type": "stream",
     "text": [
      "[[1, 1, 3], [1, 2, 2]]\n",
      "The best die is...\n"
     ]
    },
    {
     "data": {
      "text/plain": [
       "[1, 2, 2]"
      ]
     },
     "execution_count": 27,
     "metadata": {},
     "output_type": "execute_result"
    }
   ],
   "source": [
    "#test best_dice (should display the winning dice)\n",
    "best_dice(3, 5)"
   ]
  },
  {
   "cell_type": "code",
   "execution_count": 13,
   "id": "cb3b1e8e",
   "metadata": {},
   "outputs": [
    {
     "data": {
      "text/plain": [
       "[[1, 1, 8],\n",
       " [1, 2, 7],\n",
       " [1, 3, 6],\n",
       " [1, 4, 5],\n",
       " [2, 2, 6],\n",
       " [2, 3, 5],\n",
       " [2, 4, 4],\n",
       " [3, 3, 4]]"
      ]
     },
     "execution_count": 13,
     "metadata": {},
     "output_type": "execute_result"
    }
   ],
   "source": [
    "##test generate_dice (should display all possible die in list)\n",
    "generate_dice(3, 10) "
   ]
  },
  {
   "cell_type": "code",
   "execution_count": 14,
   "id": "1a4880f8",
   "metadata": {},
   "outputs": [
    {
     "data": {
      "text/plain": [
       "2"
      ]
     },
     "execution_count": 14,
     "metadata": {},
     "output_type": "execute_result"
    }
   ],
   "source": [
    "#test compare_die function (should return 1 for face 1 wins, 2 for face 2 wins, and 0 for a tie)\n",
    "compare_die([1, 2, 1, 10], [2, 3, 4 , 1])"
   ]
  }
 ],
 "metadata": {
  "kernelspec": {
   "display_name": "Python 3 (ipykernel)",
   "language": "python",
   "name": "python3"
  },
  "language_info": {
   "codemirror_mode": {
    "name": "ipython",
    "version": 3
   },
   "file_extension": ".py",
   "mimetype": "text/x-python",
   "name": "python",
   "nbconvert_exporter": "python",
   "pygments_lexer": "ipython3",
   "version": "3.11.4"
  }
 },
 "nbformat": 4,
 "nbformat_minor": 5
}
