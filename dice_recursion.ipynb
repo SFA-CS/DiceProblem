{
 "cells": [
  {
   "cell_type": "code",
   "execution_count": 28,
   "metadata": {},
   "outputs": [],
   "source": [
    "import math\n",
    "import numpy \n",
    "def recursive_dice(n, k):\n",
    "    #dp = numpy.zeros((n+1, k+1))\n",
    "    dp = [[0 for pips in range(k+1)] for sides in range(n+1)]\n",
    "    for sides in range(1, n+1):\n",
    "        for pips in range(1, k+1):\n",
    "            if (sides == pips or sides+1==pips):\n",
    "                dp[sides][ pips] = 1\n",
    "            elif (pips > sides):      \n",
    "                low =  math.ceil(pips/sides)      \n",
    "                high = pips-sides + 1      \n",
    "                sum = 0\n",
    "                for i in range(low, high+1):\n",
    "                    sum = sum + dp[sides-1][pips-i]\n",
    "                dp[sides][pips] = sum\n",
    "    \n",
    "    return dp[n][k]\n",
    "\n",
    "        "
   ]
  },
  {
   "cell_type": "code",
   "execution_count": 32,
   "metadata": {},
   "outputs": [
    {
     "data": {
      "text/plain": [
       "8"
      ]
     },
     "execution_count": 32,
     "metadata": {},
     "output_type": "execute_result"
    }
   ],
   "source": [
    "recursive_dice(9,13)"
   ]
  }
 ],
 "metadata": {
  "kernelspec": {
   "display_name": "Python 3",
   "language": "python",
   "name": "python3"
  },
  "language_info": {
   "codemirror_mode": {
    "name": "ipython",
    "version": 3
   },
   "file_extension": ".py",
   "mimetype": "text/x-python",
   "name": "python",
   "nbconvert_exporter": "python",
   "pygments_lexer": "ipython3",
   "version": "3.12.1"
  }
 },
 "nbformat": 4,
 "nbformat_minor": 2
}
