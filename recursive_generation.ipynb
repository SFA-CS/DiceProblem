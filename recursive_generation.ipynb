{
 "cells": [
  {
   "cell_type": "code",
   "execution_count": 28,
   "metadata": {},
   "outputs": [],
   "source": [
    "import math\n",
    "def die_gen_recusive(sides, pips, previousPip = math.inf):\n",
    "    if (sides == 1):\n",
    "        start_dice = [pips]\n",
    "        return [start_dice]\n",
    "    #elif (sides == pips or sides+1 == pips):\n",
    "     #   start_dice = [pips-sides+1]   # start dice is [1 or 2,1,1, ..., 1]\n",
    "     #   for i in range(sides-1):\n",
    "      #      start_dice.append(1)\n",
    "      #  return [start_dice]\n",
    "    else:\n",
    "        sum = 0\n",
    "        low = math.ceil(pips/sides)\n",
    "        high = min(previousPip, pips - sides + 1)\n",
    "        dice = [ ]\n",
    "        for firstPip in range(low, high+1):\n",
    "            rec_dice = die_gen_recusive(sides-1, pips-firstPip, firstPip)\n",
    "            for d in rec_dice:\n",
    "                d.insert(0,firstPip)\n",
    "            dice = dice + rec_dice\n",
    "        return dice"
   ]
  },
  {
   "cell_type": "code",
   "execution_count": 30,
   "metadata": {},
   "outputs": [
    {
     "data": {
      "text/plain": [
       "[[3, 3], [4, 2], [5, 1]]"
      ]
     },
     "execution_count": 30,
     "metadata": {},
     "output_type": "execute_result"
    }
   ],
   "source": [
    "die_gen_recusive(2,6)"
   ]
  },
  {
   "cell_type": "code",
   "execution_count": 29,
   "metadata": {},
   "outputs": [
    {
     "data": {
      "text/plain": [
       "[[3]]"
      ]
     },
     "execution_count": 29,
     "metadata": {},
     "output_type": "execute_result"
    }
   ],
   "source": [
    "die_gen_recusive(1,3)"
   ]
  },
  {
   "cell_type": "code",
   "execution_count": 31,
   "metadata": {},
   "outputs": [
    {
     "data": {
      "text/plain": [
       "[[2, 2, 2, 1], [3, 2, 1, 1], [4, 1, 1, 1]]"
      ]
     },
     "execution_count": 31,
     "metadata": {},
     "output_type": "execute_result"
    }
   ],
   "source": [
    "die_gen_recusive(4,7)"
   ]
  },
  {
   "cell_type": "code",
   "execution_count": 32,
   "metadata": {},
   "outputs": [
    {
     "data": {
      "text/plain": [
       "[[3, 3, 2], [4, 2, 2], [4, 3, 1], [5, 2, 1], [6, 1, 1]]"
      ]
     },
     "execution_count": 32,
     "metadata": {},
     "output_type": "execute_result"
    }
   ],
   "source": [
    "die_gen_recusive(3,8)"
   ]
  }
 ],
 "metadata": {
  "kernelspec": {
   "display_name": "base",
   "language": "python",
   "name": "python3"
  },
  "language_info": {
   "codemirror_mode": {
    "name": "ipython",
    "version": 3
   },
   "file_extension": ".py",
   "mimetype": "text/x-python",
   "name": "python",
   "nbconvert_exporter": "python",
   "pygments_lexer": "ipython3",
   "version": "3.8.8"
  }
 },
 "nbformat": 4,
 "nbformat_minor": 2
}
