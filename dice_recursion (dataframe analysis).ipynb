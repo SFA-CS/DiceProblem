{
 "cells": [
  {
   "cell_type": "code",
   "execution_count": 1,
   "metadata": {},
   "outputs": [
    {
     "data": {
      "text/html": [
       "<div>\n",
       "<style scoped>\n",
       "    .dataframe tbody tr th:only-of-type {\n",
       "        vertical-align: middle;\n",
       "    }\n",
       "\n",
       "    .dataframe tbody tr th {\n",
       "        vertical-align: top;\n",
       "    }\n",
       "\n",
       "    .dataframe thead th {\n",
       "        text-align: right;\n",
       "    }\n",
       "</style>\n",
       "<table border=\"1\" class=\"dataframe\">\n",
       "  <thead>\n",
       "    <tr style=\"text-align: right;\">\n",
       "      <th></th>\n",
       "      <th>n</th>\n",
       "      <th>k</th>\n",
       "      <th>Num of Dice Combos</th>\n",
       "    </tr>\n",
       "  </thead>\n",
       "  <tbody>\n",
       "    <tr>\n",
       "      <th>0</th>\n",
       "      <td>3</td>\n",
       "      <td>3</td>\n",
       "      <td>1</td>\n",
       "    </tr>\n",
       "    <tr>\n",
       "      <th>1</th>\n",
       "      <td>3</td>\n",
       "      <td>4</td>\n",
       "      <td>1</td>\n",
       "    </tr>\n",
       "    <tr>\n",
       "      <th>2</th>\n",
       "      <td>3</td>\n",
       "      <td>5</td>\n",
       "      <td>2</td>\n",
       "    </tr>\n",
       "    <tr>\n",
       "      <th>3</th>\n",
       "      <td>3</td>\n",
       "      <td>6</td>\n",
       "      <td>3</td>\n",
       "    </tr>\n",
       "    <tr>\n",
       "      <th>4</th>\n",
       "      <td>3</td>\n",
       "      <td>7</td>\n",
       "      <td>4</td>\n",
       "    </tr>\n",
       "  </tbody>\n",
       "</table>\n",
       "</div>"
      ],
      "text/plain": [
       "   n  k  Num of Dice Combos\n",
       "0  3  3                   1\n",
       "1  3  4                   1\n",
       "2  3  5                   2\n",
       "3  3  6                   3\n",
       "4  3  7                   4"
      ]
     },
     "execution_count": 1,
     "metadata": {},
     "output_type": "execute_result"
    }
   ],
   "source": [
    "import math\n",
    "import pandas as pd \n",
    "#dice_data = pd.read_excel('Dice Combinations Patterns.xlsx')\n",
    "#dice_data.head()\n",
    "\n",
    "dice_data = pd.read_csv('new_dice_combos.csv')\n",
    "dice_data.head()"
   ]
  },
  {
   "cell_type": "code",
   "execution_count": 2,
   "metadata": {},
   "outputs": [],
   "source": [
    "import math\n",
    "def recursive_dice_v2(sides, pips, previousPip = math.inf):\n",
    "    if (sides == pips or sides+1 == pips):\n",
    "        return 1\n",
    "    else:\n",
    "        sum = 0\n",
    "        low = math.ceil(pips/sides)\n",
    "        high = min(previousPip, pips - sides + 1)\n",
    "        for firstPip in range(low, high+1):\n",
    "            sum = sum + recursive_dice_v2(sides-1, pips-firstPip, firstPip)\n",
    "        return sum"
   ]
  },
  {
   "cell_type": "code",
   "execution_count": 3,
   "metadata": {},
   "outputs": [
    {
     "data": {
      "text/plain": [
       "2"
      ]
     },
     "execution_count": 3,
     "metadata": {},
     "output_type": "execute_result"
    }
   ],
   "source": [
    "recursive_dice_v2(3,5)"
   ]
  },
  {
   "cell_type": "code",
   "execution_count": 11,
   "metadata": {},
   "outputs": [
    {
     "name": "stdout",
     "output_type": "stream",
     "text": [
      "     n   k  Dice Generated\n",
      "0    3   3               1\n",
      "1    3   4               1\n",
      "2    3   5               2\n",
      "3    3   6               3\n",
      "4    3   7               4\n",
      "..  ..  ..             ...\n",
      "72  12  12               1\n",
      "73  12  13               1\n",
      "74  12  14               2\n",
      "75  13  13               1\n",
      "76  13  14               1\n",
      "\n",
      "[77 rows x 3 columns]\n",
      "     n   k  Original Method  Recursive Method\n",
      "0    3   3                1                 1\n",
      "1    3   4                1                 1\n",
      "2    3   5                2                 2\n",
      "3    3   6                3                 3\n",
      "4    3   7                4                 4\n",
      "..  ..  ..              ...               ...\n",
      "72  12  12                1                 1\n",
      "73  12  13                1                 1\n",
      "74  12  14                2                 2\n",
      "75  13  13                1                 1\n",
      "76  13  14                1                 1\n",
      "\n",
      "[77 rows x 4 columns]\n",
      "Empty DataFrame\n",
      "Columns: [n, k, Original Method, Recursive Method]\n",
      "Index: []\n"
     ]
    }
   ],
   "source": [
    "results = []\n",
    "\n",
    "for n in range(3,14):\n",
    "    for k in range (n, 15):\n",
    "        results.append({'n': n, 'k':k, 'Dice Generated': recursive_dice_v2(n,k)})\n",
    "        \n",
    "df = pd.DataFrame(results)\n",
    "print(df)\n",
    "\n",
    "merged_df = pd.merge(dice_data, df, on=['n','k'],how='inner')\n",
    "merged_df = merged_df.rename(columns={\n",
    "    'Num of Dice Combos' : 'Original Method',\n",
    "    'Dice Generated' : 'Recursive Method'\n",
    "})\n",
    "print(merged_df)\n",
    "\n",
    "unequal_rows = merged_df[merged_df['Recursive Method'] != merged_df['Original Method']]\n",
    "print(unequal_rows)\n",
    "\n",
    "#specific_row = df[(df['n'] == 6) & (df['k'] == 12)]\n",
    "#print(specific_row)"
   ]
  },
  {
   "cell_type": "code",
   "execution_count": null,
   "metadata": {},
   "outputs": [],
   "source": []
  }
 ],
 "metadata": {
  "kernelspec": {
   "display_name": "Python 3 (ipykernel)",
   "language": "python",
   "name": "python3"
  },
  "language_info": {
   "codemirror_mode": {
    "name": "ipython",
    "version": 3
   },
   "file_extension": ".py",
   "mimetype": "text/x-python",
   "name": "python",
   "nbconvert_exporter": "python",
   "pygments_lexer": "ipython3",
   "version": "3.11.4"
  }
 },
 "nbformat": 4,
 "nbformat_minor": 2
}
