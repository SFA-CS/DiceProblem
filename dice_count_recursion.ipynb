{
 "cells": [
  {
   "cell_type": "code",
   "execution_count": 1,
   "metadata": {},
   "outputs": [
    {
     "data": {
      "text/html": [
       "<div>\n",
       "<style scoped>\n",
       "    .dataframe tbody tr th:only-of-type {\n",
       "        vertical-align: middle;\n",
       "    }\n",
       "\n",
       "    .dataframe tbody tr th {\n",
       "        vertical-align: top;\n",
       "    }\n",
       "\n",
       "    .dataframe thead th {\n",
       "        text-align: right;\n",
       "    }\n",
       "</style>\n",
       "<table border=\"1\" class=\"dataframe\">\n",
       "  <thead>\n",
       "    <tr style=\"text-align: right;\">\n",
       "      <th></th>\n",
       "      <th>n</th>\n",
       "      <th>k</th>\n",
       "      <th>Num of Combos</th>\n",
       "    </tr>\n",
       "  </thead>\n",
       "  <tbody>\n",
       "    <tr>\n",
       "      <th>0</th>\n",
       "      <td>3</td>\n",
       "      <td>3</td>\n",
       "      <td>1</td>\n",
       "    </tr>\n",
       "    <tr>\n",
       "      <th>1</th>\n",
       "      <td>3</td>\n",
       "      <td>4</td>\n",
       "      <td>1</td>\n",
       "    </tr>\n",
       "    <tr>\n",
       "      <th>2</th>\n",
       "      <td>3</td>\n",
       "      <td>5</td>\n",
       "      <td>2</td>\n",
       "    </tr>\n",
       "    <tr>\n",
       "      <th>3</th>\n",
       "      <td>3</td>\n",
       "      <td>6</td>\n",
       "      <td>2</td>\n",
       "    </tr>\n",
       "    <tr>\n",
       "      <th>4</th>\n",
       "      <td>3</td>\n",
       "      <td>7</td>\n",
       "      <td>4</td>\n",
       "    </tr>\n",
       "  </tbody>\n",
       "</table>\n",
       "</div>"
      ],
      "text/plain": [
       "   n  k  Num of Combos\n",
       "0  3  3              1\n",
       "1  3  4              1\n",
       "2  3  5              2\n",
       "3  3  6              2\n",
       "4  3  7              4"
      ]
     },
     "execution_count": 1,
     "metadata": {},
     "output_type": "execute_result"
    }
   ],
   "source": [
    "import math\n",
    "import pandas as pd \n",
    "dice_data = pd.read_excel('Dice Combinations Patterns.xlsx')\n",
    "dice_data.head()"
   ]
  },
  {
   "cell_type": "code",
   "execution_count": 5,
   "metadata": {},
   "outputs": [],
   "source": [
    "# does not work for n = 3, k = 8\n",
    "# double counts [2,3,1] [3,2,1]\n",
    "def recursive_dice(n, k):\n",
    "    dp = [[0 for pips in range(k+1)] for sides in range(n+1)]\n",
    "    for sides in range(1, n+1):\n",
    "        for pips in range(1, k+1):\n",
    "            if (sides == pips or sides+1==pips):\n",
    "                dp[sides][ pips] = 1\n",
    "            elif (pips > sides):      \n",
    "                low =  math.ceil(pips/sides)      \n",
    "                high = pips-sides + 1      \n",
    "                sum = 0\n",
    "                for i in range(low, high+1):\n",
    "                    sum = sum + dp[sides-1][pips-i]\n",
    "                dp[sides][pips] = sum\n",
    "    \n",
    "    return dp[n][k]"
   ]
  },
  {
   "cell_type": "code",
   "execution_count": 6,
   "metadata": {},
   "outputs": [],
   "source": [
    "import math\n",
    "def recursive_dice_v2(sides, pips, previousPip = math.inf):\n",
    "    if (sides == pips or sides+1 == pips):\n",
    "        return 1\n",
    "    else:\n",
    "        sum = 0\n",
    "        low = math.ceil(pips/sides)\n",
    "        high = min(previousPip, pips - sides + 1)\n",
    "        for firstPip in range(low, high+1):\n",
    "            sum = sum + recursive_dice_v2(sides-1, pips-firstPip, firstPip)\n",
    "        return sum"
   ]
  },
  {
   "cell_type": "code",
   "execution_count": 9,
   "metadata": {},
   "outputs": [
    {
     "name": "stdout",
     "output_type": "stream",
     "text": [
      "26\n"
     ]
    },
    {
     "data": {
      "text/plain": [
       "18"
      ]
     },
     "execution_count": 9,
     "metadata": {},
     "output_type": "execute_result"
    }
   ],
   "source": [
    "sides = 4\n",
    "pips = 13\n",
    "print(recursive_dice(sides,pips))\n",
    "recursive_dice_v2(sides,pips)"
   ]
  },
  {
   "cell_type": "code",
   "execution_count": 5,
   "metadata": {},
   "outputs": [
    {
     "name": "stdout",
     "output_type": "stream",
     "text": [
      "     n   k  Dice Generated\n",
      "0    3   3               1\n",
      "1    3   4               1\n",
      "2    3   5               2\n",
      "3    3   6               4\n",
      "4    3   7               4\n",
      "..  ..  ..             ...\n",
      "72  12  12               1\n",
      "73  12  13               1\n",
      "74  12  14               2\n",
      "75  13  13               1\n",
      "76  13  14               1\n",
      "\n",
      "[77 rows x 3 columns]\n",
      "     n   k  Excel Data  New Method\n",
      "0    3   3           1           1\n",
      "1    3   4           1           1\n",
      "2    3   5           2           2\n",
      "3    3   6           2           4\n",
      "4    3   7           4           4\n",
      "..  ..  ..         ...         ...\n",
      "72  12  12           1           1\n",
      "73  12  13           1           1\n",
      "74  12  14           2           2\n",
      "75  13  13           1           1\n",
      "76  13  14           1           1\n",
      "\n",
      "[77 rows x 4 columns]\n",
      "     n   k  Excel Data  New Method\n",
      "3    3   6           2           4\n",
      "5    3   8           5           6\n",
      "6    3   9           6           8\n",
      "9    3  12          11          12\n",
      "10   3  13          14          12\n",
      "11   3  14          16          14\n",
      "15   4   7           2           4\n",
      "16   4   8           4           8\n",
      "17   4   9           5           8\n",
      "18   4  10           6          12\n",
      "19   4  11           9          18\n",
      "20   4  12          13          26\n",
      "21   4  13          15          26\n",
      "22   4  14          19          34\n",
      "26   5   8           2           4\n",
      "27   5   9           4           8\n",
      "28   5  10           5          16\n",
      "29   5  11           6          16\n",
      "30   5  12           9          24\n",
      "31   5  13          13          36\n",
      "32   5  14          15          54\n",
      "36   6   9           2           4\n",
      "37   6  10           4           8\n",
      "38   6  11           5          16\n",
      "39   6  12           6          32\n",
      "40   6  13           9          32\n",
      "41   6  14          13          48\n",
      "45   7  10           2           4\n",
      "46   7  11           4           8\n",
      "47   7  12           5          16\n",
      "48   7  13           6          32\n",
      "49   7  14           9          64\n",
      "53   8  11           2           4\n",
      "54   8  12           4           8\n",
      "55   8  13           5          16\n",
      "56   8  14           6          32\n",
      "60   9  12           2           4\n",
      "61   9  13           4           8\n",
      "62   9  14           5          16\n",
      "66  10  13           2           4\n",
      "67  10  14           4           8\n",
      "71  11  14           2           4\n"
     ]
    }
   ],
   "source": [
    "results = []\n",
    "\n",
    "for n in range(3,14):\n",
    "    for k in range (n, 15):\n",
    "        results.append({'n': n, 'k':k, 'Dice Generated': recursive_dice(n,k)})\n",
    "        \n",
    "df = pd.DataFrame(results)\n",
    "print(df)\n",
    "\n",
    "merged_df = pd.merge(dice_data, df, on=['n','k'],how='inner')\n",
    "merged_df = merged_df.rename(columns={\n",
    "    'Num of Combos': 'Excel Data',\n",
    "    'Dice Generated': 'New Method'\n",
    "})\n",
    "print(merged_df)\n",
    "\n",
    "unequal_rows = merged_df[merged_df['New Method'] != merged_df['Excel Data']]\n",
    "print(unequal_rows)\n",
    "\n"
   ]
  },
  {
   "cell_type": "code",
   "execution_count": null,
   "metadata": {},
   "outputs": [],
   "source": []
  }
 ],
 "metadata": {
  "kernelspec": {
   "display_name": "base",
   "language": "python",
   "name": "python3"
  },
  "language_info": {
   "codemirror_mode": {
    "name": "ipython",
    "version": 3
   },
   "file_extension": ".py",
   "mimetype": "text/x-python",
   "name": "python",
   "nbconvert_exporter": "python",
   "pygments_lexer": "ipython3",
   "version": "3.8.8"
  }
 },
 "nbformat": 4,
 "nbformat_minor": 2
}
