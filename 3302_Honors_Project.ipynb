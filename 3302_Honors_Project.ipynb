{
 "cells": [
  {
   "cell_type": "code",
   "execution_count": 2,
   "id": "bfd6af65",
   "metadata": {},
   "outputs": [],
   "source": [
    "import itertools\n",
    "\n",
    "def generate_dice(n, k):\n",
    "    # Generate all possible combinations of n integers that sum to k\n",
    "    combinations = list(itertools.combinations(range(1, k), n - 1)) #generates all combos of integers for n(sides) (except for 0)\n",
    "    \n",
    "    dice_combos = [] #empty list that stores dice combos that work\n",
    "    for combo in combinations:#loop\n",
    "        die = [combo[0]] #starts list for die\n",
    "        for i in range(1, n - 1): #iterates the for loop using the range specified in parenthesis\n",
    "            die.append(combo[i] - combo[i - 1]) #finds number of pips on each side (takes difference between elements to ensure # of pips >=1)\n",
    "        die.append(k - combo[-1]) #finds pips on last side by using total number of pips(k) - last element of the combination\n",
    "        \n",
    "        # Check if every side has at least 1 pip\n",
    "        if all(side >= 1 for side in die): #makes sure all die have at least one side\n",
    "            die.sort()\n",
    "            if die not in dice_combos:\n",
    "                dice_combos.append(die) #adds die to dice list\n",
    "    \n",
    "    return dice_combos #returns the dice list with all possible combinations"
   ]
  },
  {
   "cell_type": "code",
   "execution_count": 26,
   "id": "c8f0a407",
   "metadata": {},
   "outputs": [],
   "source": [
    "def get_faces(dice_combos): #added get faces method which should get values for d1 and d2 depending on dice combos\n",
    "    #\n",
    "    for i in range(len(dice_combos)):\n",
    "        for j in range(i + 1, len(dice_combos)):\n",
    "            d1 = dice_combos[i]\n",
    "            d2 = dice_combos[j]\n",
    "            i = i + 1\n",
    "    return d1, d2"
   ]
  },
  {
   "cell_type": "code",
   "execution_count": 6,
   "id": "3c840bdd",
   "metadata": {},
   "outputs": [
    {
     "data": {
      "text/plain": [
       "18"
      ]
     },
     "execution_count": 6,
     "metadata": {},
     "output_type": "execute_result"
    }
   ],
   "source": [
    "len(generate_dice(4,13))"
   ]
  },
  {
   "cell_type": "code",
   "execution_count": 89,
   "id": "9f68d3cd",
   "metadata": {},
   "outputs": [],
   "source": [
    "def compare_die(d1, d2):\n",
    "    face1wins = 0\n",
    "    face2wins = 0\n",
    "    tie = 0\n",
    "\n",
    "    for face1 in d1:\n",
    "        for face2 in d2:\n",
    "            if face1 > face2:\n",
    "                face1wins += 1\n",
    "            if face2 > face1:          \n",
    "                face2wins +=1\n",
    "            if(face1 == face2):\n",
    "                tie +=1\n",
    "    if face1wins > face2wins:\n",
    "        return 1\n",
    "    if face2wins > face1wins:\n",
    "        return 2\n",
    "    if face1wins == face2wins:\n",
    "        return 0"
   ]
  },
  {
   "cell_type": "code",
   "execution_count": 90,
   "id": "fd168312",
   "metadata": {},
   "outputs": [],
   "source": [
    "def best_dice(n, k):\n",
    "    dice_combos = generate_dice(n,k)\n",
    "    print(dice_combos)\n",
    "    n = len(dice_combos)\n",
    "    wins = [0] * n\n",
    "    ties = [0] * n\n",
    "    for i in range(n-1):\n",
    "        for j in range(i+1, n):\n",
    "            result = compare_die(dice_combos[i], dice_combos[j])\n",
    "            if result == 1:\n",
    "                wins[i] += 1\n",
    "            elif result == 2:\n",
    "                wins[j] += 1\n",
    "            else:\n",
    "                ties[i] += 1\n",
    "                ties[j] += 1\n",
    "            ties_total = ties[i] + ties[j]\n",
    "        print(\"The best die is...\")\n",
    "        if wins[i] > wins[j] and wins[i] > ties_total:\n",
    "            return dice_combos[i]\n",
    "        elif wins[j] > wins[i] and wins[j] > ties_total:\n",
    "            return dice_combos[j]\n",
    "        else:\n",
    "            return ties_total"
   ]
  },
  {
   "cell_type": "code",
   "execution_count": 91,
   "id": "4c8ce3ca",
   "metadata": {},
   "outputs": [
    {
     "name": "stdout",
     "output_type": "stream",
     "text": [
      "[[1, 1, 5], [1, 2, 4], [1, 3, 3], [2, 2, 3]]\n",
      "The best die is...\n"
     ]
    },
    {
     "data": {
      "text/plain": [
       "[2, 2, 3]"
      ]
     },
     "execution_count": 91,
     "metadata": {},
     "output_type": "execute_result"
    }
   ],
   "source": [
    "#test best_dice (should display the winning dice)\n",
    "best_dice(3, 7)"
   ]
  },
  {
   "cell_type": "code",
   "execution_count": 86,
   "id": "cb3b1e8e",
   "metadata": {},
   "outputs": [
    {
     "data": {
      "text/plain": [
       "[[1, 1, 8],\n",
       " [1, 2, 7],\n",
       " [1, 3, 6],\n",
       " [1, 4, 5],\n",
       " [2, 2, 6],\n",
       " [2, 3, 5],\n",
       " [2, 4, 4],\n",
       " [3, 3, 4]]"
      ]
     },
     "execution_count": 86,
     "metadata": {},
     "output_type": "execute_result"
    }
   ],
   "source": [
    "##test generate_dice (should display all possible die in list)\n",
    "generate_dice(3, 10) "
   ]
  },
  {
   "cell_type": "code",
   "execution_count": 87,
   "id": "1a4880f8",
   "metadata": {},
   "outputs": [
    {
     "data": {
      "text/plain": [
       "2"
      ]
     },
     "execution_count": 87,
     "metadata": {},
     "output_type": "execute_result"
    }
   ],
   "source": [
    "#test compare_die function (should return 1 for face 1 wins, 2 for face 2 wins, and 0 for a tie)\n",
    "compare_die([1, 2, 1, 10], [2, 3, 4 , 1])"
   ]
  }
 ],
 "metadata": {
  "kernelspec": {
   "display_name": "base",
   "language": "python",
   "name": "python3"
  },
  "language_info": {
   "codemirror_mode": {
    "name": "ipython",
    "version": 3
   },
   "file_extension": ".py",
   "mimetype": "text/x-python",
   "name": "python",
   "nbconvert_exporter": "python",
   "pygments_lexer": "ipython3",
   "version": "3.8.8"
  }
 },
 "nbformat": 4,
 "nbformat_minor": 5
}
