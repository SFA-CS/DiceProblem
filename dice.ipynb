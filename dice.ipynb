{
 "cells": [
  {
   "cell_type": "markdown",
   "metadata": {},
   "source": [
    "Let $n$ be the number of dice sides and $k$ be the number pips to be divided amongst the dice. We assume $k \\geq n$ and each side of the die, denoted by $d_1, d_2, \\dots d_n$ has a number of pips greater than or equal to $1$, $d_i \\geq 1$ for $1\\leq i \\leq n$."
   ]
  },
  {
   "cell_type": "markdown",
   "metadata": {},
   "source": [
    "We begin by generating all possible dice given a specific values for $n$ and $k$ which can be entered below."
   ]
  },
  {
   "cell_type": "code",
   "execution_count": 2,
   "metadata": {},
   "outputs": [],
   "source": [
    "n = 4\n",
    "k = 11"
   ]
  },
  {
   "cell_type": "code",
   "execution_count": 3,
   "metadata": {},
   "outputs": [
    {
     "data": {
      "text/plain": [
       "[8, 1, 1, 1]"
      ]
     },
     "execution_count": 3,
     "metadata": {},
     "output_type": "execute_result"
    }
   ],
   "source": [
    "start_dice = [k-n+1]  # first side has k - n + 1 pips, the remainder have one\n",
    "for i in range(n-1):\n",
    "    start_dice.append(1)\n",
    "start_dice"
   ]
  },
  {
   "cell_type": "code",
   "execution_count": 8,
   "metadata": {},
   "outputs": [
    {
     "data": {
      "text/plain": [
       "[[8, 1, 1, 1],\n",
       " [7, 2, 1, 1],\n",
       " [6, 3, 1, 1],\n",
       " [5, 4, 1, 1],\n",
       " [5, 3, 2, 1],\n",
       " [4, 4, 2, 1],\n",
       " [4, 3, 3, 1],\n",
       " [4, 3, 2, 2],\n",
       " [6, 2, 2, 1]]"
      ]
     },
     "execution_count": 8,
     "metadata": {},
     "output_type": "execute_result"
    }
   ],
   "source": [
    "all_dice = [start_dice]\n",
    "def findAll(d, list):\n",
    "    for i in range(len(d)-1):\n",
    "        if d[i] >= d[i+1] + 2:\n",
    "            new_dice = d.copy()\n",
    "            new_dice[i] = new_dice[i] - 1;\n",
    "            new_dice[i+1] = new_dice[i+1] + 1;\n",
    "            if not( new_dice in list): \n",
    "                list.append(new_dice)\n",
    "                findAll(new_dice, list)\n",
    "\n",
    "findAll(start_dice, all_dice)\n",
    "all_dice"
   ]
  },
  {
   "cell_type": "code",
   "execution_count": 9,
   "metadata": {},
   "outputs": [],
   "source": [
    "def compare_dice(dice_list):\n",
    "    num_dice = len(dice_list)\n",
    "    for i in range(num_dice-1):\n",
    "        for j in range(i+1, num_dice):\n",
    "            print(dice_list[i], dice_list[j])"
   ]
  },
  {
   "cell_type": "code",
   "execution_count": 10,
   "metadata": {},
   "outputs": [
    {
     "name": "stdout",
     "output_type": "stream",
     "text": [
      "[8, 1, 1, 1] [7, 2, 1, 1]\n",
      "[8, 1, 1, 1] [6, 3, 1, 1]\n",
      "[8, 1, 1, 1] [5, 4, 1, 1]\n",
      "[8, 1, 1, 1] [5, 3, 2, 1]\n",
      "[8, 1, 1, 1] [4, 4, 2, 1]\n",
      "[8, 1, 1, 1] [4, 3, 3, 1]\n",
      "[8, 1, 1, 1] [4, 3, 2, 2]\n",
      "[8, 1, 1, 1] [6, 2, 2, 1]\n",
      "[7, 2, 1, 1] [6, 3, 1, 1]\n",
      "[7, 2, 1, 1] [5, 4, 1, 1]\n",
      "[7, 2, 1, 1] [5, 3, 2, 1]\n",
      "[7, 2, 1, 1] [4, 4, 2, 1]\n",
      "[7, 2, 1, 1] [4, 3, 3, 1]\n",
      "[7, 2, 1, 1] [4, 3, 2, 2]\n",
      "[7, 2, 1, 1] [6, 2, 2, 1]\n",
      "[6, 3, 1, 1] [5, 4, 1, 1]\n",
      "[6, 3, 1, 1] [5, 3, 2, 1]\n",
      "[6, 3, 1, 1] [4, 4, 2, 1]\n",
      "[6, 3, 1, 1] [4, 3, 3, 1]\n",
      "[6, 3, 1, 1] [4, 3, 2, 2]\n",
      "[6, 3, 1, 1] [6, 2, 2, 1]\n",
      "[5, 4, 1, 1] [5, 3, 2, 1]\n",
      "[5, 4, 1, 1] [4, 4, 2, 1]\n",
      "[5, 4, 1, 1] [4, 3, 3, 1]\n",
      "[5, 4, 1, 1] [4, 3, 2, 2]\n",
      "[5, 4, 1, 1] [6, 2, 2, 1]\n",
      "[5, 3, 2, 1] [4, 4, 2, 1]\n",
      "[5, 3, 2, 1] [4, 3, 3, 1]\n",
      "[5, 3, 2, 1] [4, 3, 2, 2]\n",
      "[5, 3, 2, 1] [6, 2, 2, 1]\n",
      "[4, 4, 2, 1] [4, 3, 3, 1]\n",
      "[4, 4, 2, 1] [4, 3, 2, 2]\n",
      "[4, 4, 2, 1] [6, 2, 2, 1]\n",
      "[4, 3, 3, 1] [4, 3, 2, 2]\n",
      "[4, 3, 3, 1] [6, 2, 2, 1]\n",
      "[4, 3, 2, 2] [6, 2, 2, 1]\n"
     ]
    }
   ],
   "source": [
    "compare_dice(all_dice)"
   ]
  },
  {
   "cell_type": "code",
   "execution_count": null,
   "metadata": {},
   "outputs": [],
   "source": []
  }
 ],
 "metadata": {
  "kernelspec": {
   "display_name": "Python 3",
   "language": "python",
   "name": "python3"
  },
  "language_info": {
   "codemirror_mode": {
    "name": "ipython",
    "version": 3
   },
   "file_extension": ".py",
   "mimetype": "text/x-python",
   "name": "python",
   "nbconvert_exporter": "python",
   "pygments_lexer": "ipython3",
   "version": "3.10.8"
  }
 },
 "nbformat": 4,
 "nbformat_minor": 2
}
