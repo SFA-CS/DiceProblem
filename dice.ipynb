{
 "cells": [
  {
   "cell_type": "markdown",
   "metadata": {},
   "source": [
    "Let $n$ be the number of dice sides and $k$ be the number pips to be divided amongst the dice. We assume $k \\geq n$ and each side of the die, denoted by $d_1, d_2, \\dots d_n$ has a number of pips greater than or equal to $1$, $d_i \\geq 1$ for $1\\leq i \\leq n$."
   ]
  },
  {
   "cell_type": "markdown",
   "metadata": {},
   "source": [
    "We begin by generating all possible dice given a specific values for $n$ and $k$ which can be entered below."
   ]
  },
  {
   "cell_type": "code",
   "execution_count": 17,
   "metadata": {},
   "outputs": [],
   "source": [
    "# does not work for 4,7 misses [2,2,2,1]\n",
    "def findAllLoop(n,k):\n",
    "    start_dice = [k-n+1]   # start dice is [k-n+1,1,1, ..., 1]\n",
    "    for i in range(n-1):\n",
    "        start_dice.append(1)\n",
    "    \n",
    "    process_dice=[start_dice] # queue for all the dice to process\n",
    "    all_dice = [start_dice]   # return list for all found dice\n",
    "    while len(process_dice)>0:\n",
    "        d = process_dice.pop(0) # grab the next dice to process\n",
    "        for i in range(n-1):\n",
    "            if d[i] >= d[i+1] + 2:  # check for sides with difference of 2\n",
    "                new_dice = d.copy() # make a new dice and move one of the pips\n",
    "                new_dice[i] = new_dice[i] - 1\n",
    "                new_dice[i+1] = new_dice[i+1] + 1\n",
    "                if not( new_dice in all_dice): \n",
    "                    all_dice.append(new_dice)\n",
    "                    process_dice.append(new_dice)         \n",
    "\n",
    "\n",
    "    return all_dice"
   ]
  },
  {
   "cell_type": "code",
   "execution_count": 2,
   "metadata": {},
   "outputs": [],
   "source": [
    "def findAllLoop_v2(n,k):\n",
    "    start_dice = [k-n+1]   # start dice is [k-n+1,1,1, ..., 1]\n",
    "    for i in range(n-1):\n",
    "        start_dice.append(1)\n",
    "    \n",
    "    process_dice=[start_dice] # stack for all the dice to process\n",
    "    all_dice = [start_dice]  # return list for all found dice\n",
    "    while len(process_dice)>0:\n",
    "        d = process_dice.pop(0) # grab the next dice to process\n",
    "        \n",
    "        new_dice = move_pip(d) # collection of new dice that can be formed from d\n",
    "        for die in new_dice:\n",
    "            if not (die in all_dice): # do not add duplicate dice\n",
    "                process_dice.append(die)\n",
    "                all_dice.append(die)\n",
    "            \n",
    "\n",
    "    return all_dice\n",
    "\n",
    "def move_pip(dice):\n",
    "    sides = len(dice)\n",
    "    new_dice = []\n",
    "    for i in range(sides-1):\n",
    "        j = i + 1        \n",
    "        # scan sides following side i to find a side that\n",
    "        # is more than 1 fewer than the die\n",
    "        # example [3,2,2,2,1,1], will scan from 3 to 1\n",
    "        # as the 1 is the place we can move from the 3 \n",
    "        while  (j < sides) and (dice[j] == dice[i]-1):\n",
    "            j = j + 1\n",
    "        \n",
    "        # move the pip from side i to side j\n",
    "        if (j < sides) and (dice[i] >= dice[j] +2 ):\n",
    "            d = dice.copy()\n",
    "            d[i] = d[i]-1\n",
    "            d[j] = d[j]+1\n",
    "            new_dice.append(d)\n",
    "        \n",
    "    return new_dice "
   ]
  },
  {
   "cell_type": "code",
   "execution_count": 3,
   "metadata": {},
   "outputs": [
    {
     "data": {
      "text/plain": [
       "[[6, 1, 1], [5, 2, 1], [4, 3, 1], [3, 3, 2], [4, 2, 2]]"
      ]
     },
     "execution_count": 3,
     "metadata": {},
     "output_type": "execute_result"
    }
   ],
   "source": [
    "findAllLoop_v2(3,8)"
   ]
  },
  {
   "cell_type": "code",
   "execution_count": 44,
   "metadata": {},
   "outputs": [
    {
     "data": {
      "text/plain": [
       "18"
      ]
     },
     "execution_count": 44,
     "metadata": {},
     "output_type": "execute_result"
    }
   ],
   "source": [
    "len(findAllLoop_v2(4,13))"
   ]
  },
  {
   "cell_type": "code",
   "execution_count": 2,
   "metadata": {},
   "outputs": [
    {
     "name": "stdout",
     "output_type": "stream",
     "text": [
      "19\n",
      "[11, 1, 1, 1, 1, 1, 1, 1, 1, 1]\n",
      "[10, 2, 1, 1, 1, 1, 1, 1, 1, 1]\n",
      "[9, 3, 1, 1, 1, 1, 1, 1, 1, 1]\n",
      "[8, 4, 1, 1, 1, 1, 1, 1, 1, 1]\n",
      "[9, 2, 2, 1, 1, 1, 1, 1, 1, 1]\n",
      "[7, 5, 1, 1, 1, 1, 1, 1, 1, 1]\n",
      "[8, 3, 2, 1, 1, 1, 1, 1, 1, 1]\n",
      "[6, 6, 1, 1, 1, 1, 1, 1, 1, 1]\n",
      "[7, 4, 2, 1, 1, 1, 1, 1, 1, 1]\n",
      "[6, 5, 2, 1, 1, 1, 1, 1, 1, 1]\n",
      "[7, 3, 3, 1, 1, 1, 1, 1, 1, 1]\n",
      "[6, 4, 3, 1, 1, 1, 1, 1, 1, 1]\n",
      "[7, 3, 2, 2, 1, 1, 1, 1, 1, 1]\n",
      "[5, 5, 3, 1, 1, 1, 1, 1, 1, 1]\n",
      "[6, 4, 2, 2, 1, 1, 1, 1, 1, 1]\n",
      "[5, 4, 4, 1, 1, 1, 1, 1, 1, 1]\n",
      "[5, 5, 2, 2, 1, 1, 1, 1, 1, 1]\n",
      "[6, 3, 3, 2, 1, 1, 1, 1, 1, 1]\n",
      "[5, 4, 3, 2, 1, 1, 1, 1, 1, 1]\n"
     ]
    }
   ],
   "source": [
    "dice = findAllLoop(10,20)\n",
    "print(len(dice))\n",
    "for d in dice:\n",
    "    print(d)"
   ]
  },
  {
   "cell_type": "code",
   "execution_count": 15,
   "metadata": {},
   "outputs": [],
   "source": [
    "n = 4\n",
    "k = 11"
   ]
  },
  {
   "cell_type": "code",
   "execution_count": 16,
   "metadata": {},
   "outputs": [
    {
     "data": {
      "text/plain": [
       "[8, 1, 1, 1]"
      ]
     },
     "execution_count": 16,
     "metadata": {},
     "output_type": "execute_result"
    }
   ],
   "source": [
    "start_dice = [k-n+1]  # first side has k - n + 1 pips, the remainder have one\n",
    "for i in range(n-1):\n",
    "    start_dice.append(1)\n",
    "start_dice"
   ]
  },
  {
   "cell_type": "code",
   "execution_count": 17,
   "metadata": {},
   "outputs": [
    {
     "data": {
      "text/plain": [
       "[[8, 1, 1, 1],\n",
       " [7, 2, 1, 1],\n",
       " [6, 3, 1, 1],\n",
       " [5, 4, 1, 1],\n",
       " [5, 3, 2, 1],\n",
       " [4, 4, 2, 1],\n",
       " [4, 3, 3, 1],\n",
       " [4, 3, 2, 2],\n",
       " [6, 2, 2, 1]]"
      ]
     },
     "execution_count": 17,
     "metadata": {},
     "output_type": "execute_result"
    }
   ],
   "source": [
    "all_dice = [start_dice]\n",
    "def findAll(d, list):\n",
    "    for i in range(len(d)-1):\n",
    "        if d[i] >= d[i+1] + 2:\n",
    "            new_dice = d.copy()\n",
    "            new_dice[i] = new_dice[i] - 1;\n",
    "            new_dice[i+1] = new_dice[i+1] + 1;\n",
    "            if not( new_dice in list): \n",
    "                list.append(new_dice)\n",
    "                findAll(new_dice, list)\n",
    "\n",
    "findAll(start_dice, all_dice)\n",
    "all_dice"
   ]
  },
  {
   "cell_type": "code",
   "execution_count": 29,
   "metadata": {},
   "outputs": [],
   "source": [
    "def find_best(dice_list):\n",
    "    num_dice = len(dice_list)\n",
    "    wins = [0] * num_dice\n",
    "    ties = [0] * num_dice\n",
    "    for i in range(num_dice-1):\n",
    "        for j in range(i+1, num_dice):\n",
    "            winner = compare_dice(dice_list[i], dice_list[j])\n",
    "            if (winner == 1):\n",
    "                wins[i] = wins[i] + 1\n",
    "            elif (winner == 2):\n",
    "                wins[j] = wins[j] + 1\n",
    "            else:\n",
    "                ties[i] = ties[i] + 1\n",
    "                ties[j] = ties[j] + 1\n",
    "\n",
    "    max_index = wins.index(max(wins))\n",
    "    return dice_list[max_index], wins[max_index]"
   ]
  },
  {
   "cell_type": "code",
   "execution_count": 30,
   "metadata": {},
   "outputs": [],
   "source": [
    "def compare_dice(d1, d2):\n",
    "    wins1 = 0\n",
    "    wins2 = 0\n",
    "    tie = 0\n",
    "    for side_first_dice in d1:\n",
    "        for side_second_dice in d2:\n",
    "            if (side_first_dice > side_second_dice):\n",
    "                wins1 = wins1 + 1\n",
    "            elif (side_first_dice < side_second_dice):\n",
    "                wins2 = wins2 + 1\n",
    "            else:\n",
    "                tie = tie + 1\n",
    "    if (wins1 > wins2):\n",
    "        return 1\n",
    "    elif (wins2 > wins1):\n",
    "        return 2\n",
    "    else:\n",
    "        return 0"
   ]
  },
  {
   "cell_type": "code",
   "execution_count": 31,
   "metadata": {},
   "outputs": [
    {
     "data": {
      "text/plain": [
       "([4, 3, 3, 1], 6)"
      ]
     },
     "execution_count": 31,
     "metadata": {},
     "output_type": "execute_result"
    }
   ],
   "source": [
    "find_best(all_dice)"
   ]
  },
  {
   "cell_type": "code",
   "execution_count": null,
   "metadata": {},
   "outputs": [],
   "source": []
  }
 ],
 "metadata": {
  "kernelspec": {
   "display_name": "base",
   "language": "python",
   "name": "python3"
  },
  "language_info": {
   "codemirror_mode": {
    "name": "ipython",
    "version": 3
   },
   "file_extension": ".py",
   "mimetype": "text/x-python",
   "name": "python",
   "nbconvert_exporter": "python",
   "pygments_lexer": "ipython3",
   "version": "3.8.8"
  }
 },
 "nbformat": 4,
 "nbformat_minor": 2
}
